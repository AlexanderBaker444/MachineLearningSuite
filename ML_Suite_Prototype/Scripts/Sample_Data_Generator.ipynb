{
 "cells": [
  {
   "cell_type": "code",
   "execution_count": 33,
   "metadata": {},
   "outputs": [],
   "source": [
    "import numpy as np\n",
    "import pandas as pd"
   ]
  },
  {
   "cell_type": "code",
   "execution_count": 34,
   "metadata": {},
   "outputs": [],
   "source": [
    "cols=pd.read_csv('../Data/tag_dataset.csv')"
   ]
  },
  {
   "cell_type": "code",
   "execution_count": 35,
   "metadata": {},
   "outputs": [
    {
     "data": {
      "text/html": [
       "<div>\n",
       "<style scoped>\n",
       "    .dataframe tbody tr th:only-of-type {\n",
       "        vertical-align: middle;\n",
       "    }\n",
       "\n",
       "    .dataframe tbody tr th {\n",
       "        vertical-align: top;\n",
       "    }\n",
       "\n",
       "    .dataframe thead th {\n",
       "        text-align: right;\n",
       "    }\n",
       "</style>\n",
       "<table border=\"1\" class=\"dataframe\">\n",
       "  <thead>\n",
       "    <tr style=\"text-align: right;\">\n",
       "      <th></th>\n",
       "      <th>Article1</th>\n",
       "      <th>Article2</th>\n",
       "      <th>Color1</th>\n",
       "      <th>Color2</th>\n",
       "      <th>Price_1</th>\n",
       "      <th>Price_2</th>\n",
       "      <th>Occasion_1</th>\n",
       "      <th>Occasion_2</th>\n",
       "      <th>Unique_Characteristic_Article_1</th>\n",
       "      <th>Unique_Characteristic_Article_2</th>\n",
       "      <th>Complementary</th>\n",
       "    </tr>\n",
       "  </thead>\n",
       "  <tbody>\n",
       "  </tbody>\n",
       "</table>\n",
       "</div>"
      ],
      "text/plain": [
       "Empty DataFrame\n",
       "Columns: [Article1, Article2, Color1, Color2, Price_1, Price_2, Occasion_1, Occasion_2, Unique_Characteristic_Article_1, Unique_Characteristic_Article_2, Complementary]\n",
       "Index: []"
      ]
     },
     "execution_count": 35,
     "metadata": {},
     "output_type": "execute_result"
    }
   ],
   "source": [
    "cols"
   ]
  },
  {
   "cell_type": "code",
   "execution_count": 50,
   "metadata": {},
   "outputs": [],
   "source": [
    "article_options=['shirt','jeans','shoes','jacket','pants','dress','skirt']\n",
    "color=['white','black','grey','blue','red','purple','striped','plad']\n",
    "occasion=['Physical Activity','Special Occasion','Casual','Work']\n",
    "unique_characteristics=['flared','tight','laced','raised heel','flat','long','short','buttoned','collar','draw string','pockets','no pockets']"
   ]
  },
  {
   "cell_type": "code",
   "execution_count": 63,
   "metadata": {},
   "outputs": [],
   "source": [
    "\n",
    "\n",
    "def generate_data(array_possible_vals,number_of_values):\n",
    "    random_array=[]\n",
    "    \n",
    "    for i in range(1,number_of_values):\n",
    "        rand_index=np.random.randint(0,len(array_possible_vals))\n",
    "        random_value=array_possible_vals[rand_index]\n",
    "        random_array.append(random_value)\n",
    "    \n",
    "    return random_array"
   ]
  },
  {
   "cell_type": "code",
   "execution_count": 79,
   "metadata": {},
   "outputs": [],
   "source": [
    "number_of_values=51\n",
    "clothing_array=generate_data(article_options,number_of_values)\n",
    "color_array=generate_data(color,number_of_values)\n",
    "occasion_array=generate_data(occasion,number_of_values)"
   ]
  },
  {
   "cell_type": "code",
   "execution_count": 90,
   "metadata": {},
   "outputs": [],
   "source": [
    "def restricted_random(article_array):\n",
    "    shirt_array=['long','short','buttoned','collared']\n",
    "    jeans_array=['flared','tight','long','short','baggy']\n",
    "    shoes_array=['raised heel','flat','long','short']\n",
    "    jacket_array=['limited buttons','zipper','hood','many buttons']\n",
    "    pants_array=['leather','long','short','loose','tight']\n",
    "    dress_array=['sun','short','long','tight','loose']\n",
    "    skirt_array=['short','long','tight','loose']\n",
    "    num_times=2\n",
    "    restricted_random_array=[]\n",
    "    for i in article_array:\n",
    "        switcher={\n",
    "            'shirt':generate_data(shirt_array,num_times),\n",
    "            'jeans':generate_data(jeans_array,num_times),\n",
    "            'shoes':generate_data(shoes_array,num_times),\n",
    "            'jacket':generate_data(jacket_array,num_times),\n",
    "            'pants':generate_data(pants_array,num_times),\n",
    "            'dress':generate_data(dress_array,num_times),\n",
    "            'skirt':generate_data(skirt_array,num_times),\n",
    "        }\n",
    "\n",
    "        restricted_random_array.append(switcher.get(i)[0])\n",
    "    \n",
    "    return restricted_random_array"
   ]
  },
  {
   "cell_type": "code",
   "execution_count": 91,
   "metadata": {},
   "outputs": [],
   "source": [
    "characteristic_array=restricted_random(clothing_array)"
   ]
  },
  {
   "cell_type": "code",
   "execution_count": 97,
   "metadata": {},
   "outputs": [
    {
     "data": {
      "text/plain": [
       "50"
      ]
     },
     "execution_count": 97,
     "metadata": {},
     "output_type": "execute_result"
    }
   ],
   "source": [
    "cost_array=np.round(np.random.normal(100,20,number_of_values-1),2)\n",
    "len(cost_array)"
   ]
  },
  {
   "cell_type": "code",
   "execution_count": 98,
   "metadata": {},
   "outputs": [],
   "source": [
    "ids=[i for i in range(1,number_of_values)]"
   ]
  },
  {
   "cell_type": "code",
   "execution_count": 99,
   "metadata": {},
   "outputs": [],
   "source": [
    "df_articles=pd.DataFrame({'ID':ids,'Article':clothing_array,'Color':color_array,'Characteristic':characteristic_array,'Cost':cost_array,'Occasion':occasion_array})"
   ]
  },
  {
   "cell_type": "code",
   "execution_count": 100,
   "metadata": {},
   "outputs": [
    {
     "data": {
      "text/html": [
       "<div>\n",
       "<style scoped>\n",
       "    .dataframe tbody tr th:only-of-type {\n",
       "        vertical-align: middle;\n",
       "    }\n",
       "\n",
       "    .dataframe tbody tr th {\n",
       "        vertical-align: top;\n",
       "    }\n",
       "\n",
       "    .dataframe thead th {\n",
       "        text-align: right;\n",
       "    }\n",
       "</style>\n",
       "<table border=\"1\" class=\"dataframe\">\n",
       "  <thead>\n",
       "    <tr style=\"text-align: right;\">\n",
       "      <th></th>\n",
       "      <th>ID</th>\n",
       "      <th>Article</th>\n",
       "      <th>Color</th>\n",
       "      <th>Characteristic</th>\n",
       "      <th>Cost</th>\n",
       "      <th>Occasion</th>\n",
       "    </tr>\n",
       "  </thead>\n",
       "  <tbody>\n",
       "    <tr>\n",
       "      <th>0</th>\n",
       "      <td>1</td>\n",
       "      <td>pants</td>\n",
       "      <td>red</td>\n",
       "      <td>loose</td>\n",
       "      <td>112.80</td>\n",
       "      <td>Casual</td>\n",
       "    </tr>\n",
       "    <tr>\n",
       "      <th>1</th>\n",
       "      <td>2</td>\n",
       "      <td>shoes</td>\n",
       "      <td>purple</td>\n",
       "      <td>short</td>\n",
       "      <td>85.14</td>\n",
       "      <td>Casual</td>\n",
       "    </tr>\n",
       "    <tr>\n",
       "      <th>2</th>\n",
       "      <td>3</td>\n",
       "      <td>dress</td>\n",
       "      <td>purple</td>\n",
       "      <td>long</td>\n",
       "      <td>96.70</td>\n",
       "      <td>Work</td>\n",
       "    </tr>\n",
       "    <tr>\n",
       "      <th>3</th>\n",
       "      <td>4</td>\n",
       "      <td>dress</td>\n",
       "      <td>purple</td>\n",
       "      <td>sun</td>\n",
       "      <td>130.40</td>\n",
       "      <td>Special Occasion</td>\n",
       "    </tr>\n",
       "    <tr>\n",
       "      <th>4</th>\n",
       "      <td>5</td>\n",
       "      <td>shoes</td>\n",
       "      <td>black</td>\n",
       "      <td>long</td>\n",
       "      <td>65.41</td>\n",
       "      <td>Physical Activity</td>\n",
       "    </tr>\n",
       "  </tbody>\n",
       "</table>\n",
       "</div>"
      ],
      "text/plain": [
       "   ID Article   Color Characteristic    Cost           Occasion\n",
       "0   1   pants     red          loose  112.80             Casual\n",
       "1   2   shoes  purple          short   85.14             Casual\n",
       "2   3   dress  purple           long   96.70               Work\n",
       "3   4   dress  purple            sun  130.40   Special Occasion\n",
       "4   5   shoes   black           long   65.41  Physical Activity"
      ]
     },
     "execution_count": 100,
     "metadata": {},
     "output_type": "execute_result"
    }
   ],
   "source": [
    "df_articles.head()"
   ]
  },
  {
   "cell_type": "code",
   "execution_count": 119,
   "metadata": {},
   "outputs": [],
   "source": [
    "def all_combos(id_array):\n",
    "    pairs=[]\n",
    "    for i in id_array:\n",
    "        for j in id_array:\n",
    "            pair=[i,j]\n",
    "            pairs.append(pair)\n",
    "    return pairs"
   ]
  },
  {
   "cell_type": "code",
   "execution_count": 120,
   "metadata": {},
   "outputs": [],
   "source": [
    "combos=all_combos(df_articles['ID'])"
   ]
  },
  {
   "cell_type": "code",
   "execution_count": 143,
   "metadata": {},
   "outputs": [],
   "source": [
    "article1=pd.DataFrame(columns=['ID1','Article1','Color1','Characteristic1','Cosst1','Occasion1'])\n",
    "ps=[]\n",
    "for i in combos:\n",
    "    p=df_articles[df_articles['ID']==i[0]]\n",
    "    c=pd.concat([article1,p])\n",
    "    ps.append(c)\n"
   ]
  },
  {
   "cell_type": "code",
   "execution_count": 145,
   "metadata": {},
   "outputs": [],
   "source": [
    "art1=pd.concat(ps)"
   ]
  },
  {
   "cell_type": "code",
   "execution_count": 146,
   "metadata": {},
   "outputs": [],
   "source": [
    "article2=pd.DataFrame(columns=['ID2','Article2','Color2','Characteristic2','Cost2','Occasion2'])\n",
    "ps=[]\n",
    "for i in combos:\n",
    "    p=df_articles[df_articles['ID']==i[1]]\n",
    "    c=pd.concat([article1,p])\n",
    "    ps.append(c)"
   ]
  },
  {
   "cell_type": "code",
   "execution_count": 147,
   "metadata": {},
   "outputs": [],
   "source": [
    "art2=pd.concat(ps)"
   ]
  },
  {
   "cell_type": "code",
   "execution_count": 163,
   "metadata": {},
   "outputs": [],
   "source": [
    "combo_index=[i for i in range(1,len(art2)+1)]\n",
    "c=combo_index"
   ]
  },
  {
   "cell_type": "code",
   "execution_count": 167,
   "metadata": {},
   "outputs": [],
   "source": [
    "art1['combo_index']=c\n",
    "art2['combo_index']=c\n",
    "art1.set_index('combo_index',inplace=True)\n",
    "art2.set_index('combo_index',inplace=True)"
   ]
  },
  {
   "cell_type": "code",
   "execution_count": 168,
   "metadata": {},
   "outputs": [],
   "source": [
    "final_df=pd.concat([art1,art2],axis=1)"
   ]
  },
  {
   "cell_type": "code",
   "execution_count": 174,
   "metadata": {},
   "outputs": [],
   "source": [
    "final_df['Complementary']=generate_data(['Not Match','Neutral','Great Match'],len(final_df)+1)"
   ]
  },
  {
   "cell_type": "code",
   "execution_count": 175,
   "metadata": {},
   "outputs": [
    {
     "data": {
      "text/html": [
       "<div>\n",
       "<style scoped>\n",
       "    .dataframe tbody tr th:only-of-type {\n",
       "        vertical-align: middle;\n",
       "    }\n",
       "\n",
       "    .dataframe tbody tr th {\n",
       "        vertical-align: top;\n",
       "    }\n",
       "\n",
       "    .dataframe thead th {\n",
       "        text-align: right;\n",
       "    }\n",
       "</style>\n",
       "<table border=\"1\" class=\"dataframe\">\n",
       "  <thead>\n",
       "    <tr style=\"text-align: right;\">\n",
       "      <th></th>\n",
       "      <th>ID</th>\n",
       "      <th>Article</th>\n",
       "      <th>Color</th>\n",
       "      <th>Characteristic</th>\n",
       "      <th>Cost</th>\n",
       "      <th>Occasion</th>\n",
       "      <th>ID</th>\n",
       "      <th>Article</th>\n",
       "      <th>Color</th>\n",
       "      <th>Characteristic</th>\n",
       "      <th>Cost</th>\n",
       "      <th>Occasion</th>\n",
       "      <th>Complementary</th>\n",
       "    </tr>\n",
       "    <tr>\n",
       "      <th>combo_index</th>\n",
       "      <th></th>\n",
       "      <th></th>\n",
       "      <th></th>\n",
       "      <th></th>\n",
       "      <th></th>\n",
       "      <th></th>\n",
       "      <th></th>\n",
       "      <th></th>\n",
       "      <th></th>\n",
       "      <th></th>\n",
       "      <th></th>\n",
       "      <th></th>\n",
       "      <th></th>\n",
       "    </tr>\n",
       "  </thead>\n",
       "  <tbody>\n",
       "    <tr>\n",
       "      <th>1</th>\n",
       "      <td>1</td>\n",
       "      <td>pants</td>\n",
       "      <td>red</td>\n",
       "      <td>loose</td>\n",
       "      <td>112.8</td>\n",
       "      <td>Casual</td>\n",
       "      <td>1</td>\n",
       "      <td>pants</td>\n",
       "      <td>red</td>\n",
       "      <td>loose</td>\n",
       "      <td>112.80</td>\n",
       "      <td>Casual</td>\n",
       "      <td>Not Match</td>\n",
       "    </tr>\n",
       "    <tr>\n",
       "      <th>2</th>\n",
       "      <td>1</td>\n",
       "      <td>pants</td>\n",
       "      <td>red</td>\n",
       "      <td>loose</td>\n",
       "      <td>112.8</td>\n",
       "      <td>Casual</td>\n",
       "      <td>2</td>\n",
       "      <td>shoes</td>\n",
       "      <td>purple</td>\n",
       "      <td>short</td>\n",
       "      <td>85.14</td>\n",
       "      <td>Casual</td>\n",
       "      <td>Great Match</td>\n",
       "    </tr>\n",
       "    <tr>\n",
       "      <th>3</th>\n",
       "      <td>1</td>\n",
       "      <td>pants</td>\n",
       "      <td>red</td>\n",
       "      <td>loose</td>\n",
       "      <td>112.8</td>\n",
       "      <td>Casual</td>\n",
       "      <td>3</td>\n",
       "      <td>dress</td>\n",
       "      <td>purple</td>\n",
       "      <td>long</td>\n",
       "      <td>96.70</td>\n",
       "      <td>Work</td>\n",
       "      <td>Neutral</td>\n",
       "    </tr>\n",
       "    <tr>\n",
       "      <th>4</th>\n",
       "      <td>1</td>\n",
       "      <td>pants</td>\n",
       "      <td>red</td>\n",
       "      <td>loose</td>\n",
       "      <td>112.8</td>\n",
       "      <td>Casual</td>\n",
       "      <td>4</td>\n",
       "      <td>dress</td>\n",
       "      <td>purple</td>\n",
       "      <td>sun</td>\n",
       "      <td>130.40</td>\n",
       "      <td>Special Occasion</td>\n",
       "      <td>Great Match</td>\n",
       "    </tr>\n",
       "    <tr>\n",
       "      <th>5</th>\n",
       "      <td>1</td>\n",
       "      <td>pants</td>\n",
       "      <td>red</td>\n",
       "      <td>loose</td>\n",
       "      <td>112.8</td>\n",
       "      <td>Casual</td>\n",
       "      <td>5</td>\n",
       "      <td>shoes</td>\n",
       "      <td>black</td>\n",
       "      <td>long</td>\n",
       "      <td>65.41</td>\n",
       "      <td>Physical Activity</td>\n",
       "      <td>Neutral</td>\n",
       "    </tr>\n",
       "  </tbody>\n",
       "</table>\n",
       "</div>"
      ],
      "text/plain": [
       "            ID Article Color Characteristic   Cost Occasion ID Article  \\\n",
       "combo_index                                                              \n",
       "1            1   pants   red          loose  112.8   Casual  1   pants   \n",
       "2            1   pants   red          loose  112.8   Casual  2   shoes   \n",
       "3            1   pants   red          loose  112.8   Casual  3   dress   \n",
       "4            1   pants   red          loose  112.8   Casual  4   dress   \n",
       "5            1   pants   red          loose  112.8   Casual  5   shoes   \n",
       "\n",
       "              Color Characteristic    Cost           Occasion Complementary  \n",
       "combo_index                                                                  \n",
       "1               red          loose  112.80             Casual     Not Match  \n",
       "2            purple          short   85.14             Casual   Great Match  \n",
       "3            purple           long   96.70               Work       Neutral  \n",
       "4            purple            sun  130.40   Special Occasion   Great Match  \n",
       "5             black           long   65.41  Physical Activity       Neutral  "
      ]
     },
     "execution_count": 175,
     "metadata": {},
     "output_type": "execute_result"
    }
   ],
   "source": [
    "final_df.head()"
   ]
  },
  {
   "cell_type": "code",
   "execution_count": 176,
   "metadata": {},
   "outputs": [],
   "source": [
    "final_df.to_csv('../Data/combo_df')"
   ]
  },
  {
   "cell_type": "code",
   "execution_count": null,
   "metadata": {},
   "outputs": [],
   "source": []
  }
 ],
 "metadata": {
  "kernelspec": {
   "display_name": "Python 3",
   "language": "python",
   "name": "python3"
  },
  "language_info": {
   "codemirror_mode": {
    "name": "ipython",
    "version": 3
   },
   "file_extension": ".py",
   "mimetype": "text/x-python",
   "name": "python",
   "nbconvert_exporter": "python",
   "pygments_lexer": "ipython3",
   "version": "3.7.3"
  }
 },
 "nbformat": 4,
 "nbformat_minor": 2
}
