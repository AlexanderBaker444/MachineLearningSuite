{
 "cells": [
  {
   "cell_type": "code",
   "execution_count": 1,
   "metadata": {},
   "outputs": [],
   "source": [
    "import pickle as pkl\n",
    "import xgboost as xgb\n",
    "import pandas as pd\n",
    "import numpy as np\n",
    "from sklearn.metrics import accuracy_score\n",
    "from sklearn.model_selection import train_test_split"
   ]
  },
  {
   "cell_type": "code",
   "execution_count": 2,
   "metadata": {},
   "outputs": [],
   "source": [
    "def learn(input_set,output_set):\n",
    "    X_train,X_test,y_train,y_test=train_test_split(input_set,output_set,test_size=.2)\n",
    "    xgb_inst=xgb.XGBClassifier()\n",
    "    xgb_fit=xgb_inst.fit(X_train,y_train)\n",
    "    xgb_pred=xgb_fit.predict(X_test)\n",
    "    acc=accuracy_score(xgb_pred,y_test)\n",
    "    return acc,xgb_pred"
   ]
  },
  {
   "cell_type": "code",
   "execution_count": 3,
   "metadata": {},
   "outputs": [],
   "source": [
    "def random_combo(c_list):\n",
    "    #df=pd.read_csv('../Data/combo_df')\n",
    "    r=np.random.randint(1,len(c_list))\n",
    "    return r"
   ]
  },
  {
   "cell_type": "code",
   "execution_count": 4,
   "metadata": {},
   "outputs": [
    {
     "ename": "NameError",
     "evalue": "name 'df' is not defined",
     "output_type": "error",
     "traceback": [
      "\u001b[1;31m---------------------------------------------------------------------------\u001b[0m",
      "\u001b[1;31mNameError\u001b[0m                                 Traceback (most recent call last)",
      "\u001b[1;32m<ipython-input-4-794da3099b7d>\u001b[0m in \u001b[0;36m<module>\u001b[1;34m\u001b[0m\n\u001b[1;32m----> 1\u001b[1;33m \u001b[0mrandom_combo\u001b[0m\u001b[1;33m(\u001b[0m\u001b[0mdf\u001b[0m\u001b[1;33m)\u001b[0m\u001b[1;33m\u001b[0m\u001b[1;33m\u001b[0m\u001b[0m\n\u001b[0m",
      "\u001b[1;31mNameError\u001b[0m: name 'df' is not defined"
     ]
    }
   ],
   "source": [
    "random_combo(df)"
   ]
  },
  {
   "cell_type": "code",
   "execution_count": 5,
   "metadata": {},
   "outputs": [
    {
     "data": {
      "text/plain": [
       "Index(['combo_index', 'ID', 'Article', 'Color', 'Characteristic', 'Cost',\n",
       "       'Occasion', 'ID.1', 'Article.1', 'Color.1', 'Characteristic.1',\n",
       "       'Cost.1', 'Occasion.1', 'Complementary'],\n",
       "      dtype='object')"
      ]
     },
     "execution_count": 5,
     "metadata": {},
     "output_type": "execute_result"
    }
   ],
   "source": [
    "df=pd.read_csv('../Data/combo_df')\n",
    "df.columns"
   ]
  },
  {
   "cell_type": "code",
   "execution_count": 6,
   "metadata": {},
   "outputs": [],
   "source": [
    "df=pd.read_csv('../Data/combo_df')\n",
    "def extract_info(com):\n",
    "    line=df.iloc[com]\n",
    "    article1=line['ID']\n",
    "    article2=line['ID.1']\n",
    "    return article1,article2"
   ]
  },
  {
   "cell_type": "code",
   "execution_count": 7,
   "metadata": {},
   "outputs": [
    {
     "data": {
      "text/plain": [
       "(1, 2)"
      ]
     },
     "execution_count": 7,
     "metadata": {},
     "output_type": "execute_result"
    }
   ],
   "source": [
    "extract_info(1)"
   ]
  },
  {
   "cell_type": "code",
   "execution_count": 8,
   "metadata": {},
   "outputs": [],
   "source": [
    "def add_to_output_1(combo_id,new_df):\n",
    "    #df=pd.read_csv('../Data/combo_df')\n",
    "    new_df['Complementary'][combo_id]=1\n",
    "    r=random_combo(new_df)\n",
    "    return new_df,r\n",
    "def add_to_output_2(combo_id,new_df):\n",
    "    #df=pd.read_csv('../Data/combo_df')\n",
    "    new_df['Complementary'][combo_id]=2\n",
    "    r=random_combo(new_df)\n",
    "    return new_df,r\n",
    "def add_to_output_3(combo_id,new_df):\n",
    "    #df=pd.read_csv('../Data/combo_df')\n",
    "    new_df['Complementary'][combo_id]=3\n",
    "    r=random_combo(new_df)\n",
    "    \n",
    "    return new_df,r"
   ]
  },
  {
   "cell_type": "code",
   "execution_count": 9,
   "metadata": {},
   "outputs": [
    {
     "name": "stderr",
     "output_type": "stream",
     "text": [
      "C:\\Users\\603766\\AppData\\Local\\Continuum\\anaconda3\\lib\\site-packages\\ipykernel_launcher.py:3: SettingWithCopyWarning: \n",
      "A value is trying to be set on a copy of a slice from a DataFrame\n",
      "\n",
      "See the caveats in the documentation: http://pandas.pydata.org/pandas-docs/stable/indexing.html#indexing-view-versus-copy\n",
      "  This is separate from the ipykernel package so we can avoid doing imports until\n"
     ]
    },
    {
     "data": {
      "text/plain": [
       "136"
      ]
     },
     "execution_count": 9,
     "metadata": {},
     "output_type": "execute_result"
    }
   ],
   "source": [
    "add_to_output_1(5,df)[1]"
   ]
  },
  {
   "cell_type": "code",
   "execution_count": 27,
   "metadata": {},
   "outputs": [
    {
     "name": "stdout",
     "output_type": "stream",
     "text": [
      "[[2080, 1]]\n",
      "[[2080, 1], [139, 3]]\n",
      "[[2080, 1], [139, 3], [2285, 2]]\n",
      "[[2080, 1], [139, 3], [2285, 2], [795, 1]]\n",
      "[[2080, 1], [139, 3], [2285, 2], [795, 1], [1866, 2]]\n",
      "[[2080, 1], [139, 3], [2285, 2], [795, 1], [1866, 2], [1550, 2]]\n",
      "[[2080, 1], [139, 3], [2285, 2], [795, 1], [1866, 2], [1550, 2], [1731, 2]]\n",
      "[[2080, 1], [139, 3], [2285, 2], [795, 1], [1866, 2], [1550, 2], [1731, 2], [1436, 2]]\n",
      "[[2080, 1], [139, 3], [2285, 2], [795, 1], [1866, 2], [1550, 2], [1731, 2], [1436, 2], [727, 1]]\n"
     ]
    }
   ],
   "source": [
    "import tkinter as tk\n",
    "df=pd.read_csv('../Data/combo_df')\n",
    "\n",
    "global new_info\n",
    "new_info=[]\n",
    "global combo_list\n",
    "combo_list=df['combo_index'].tolist()\n",
    "def press1():\n",
    "    r=np.random.randint(1,len(combo_list))\n",
    "    new_info.append([r,1])\n",
    "    print(new_info)\n",
    "    string='hi'\n",
    "    topframe.config(text=extract_info(r))\n",
    "    combo_list.remove(r)\n",
    "    \n",
    "    \n",
    "def press2():\n",
    "    r=np.random.randint(1,len(combo_list))\n",
    "    new_info.append([r,2])\n",
    "    print(new_info)\n",
    "    string='hi'\n",
    "    topframe.config(text=extract_info(r))\n",
    "    combo_list.remove(r)\n",
    "    \n",
    "def press3():\n",
    "    r=np.random.randint(1,len(combo_list))\n",
    "    new_info.append([r,3])\n",
    "    print(new_info)\n",
    "    string='hi'\n",
    "    \n",
    "    topframe.config(text=extract_info(r))\n",
    "    combo_list.remove(r)\n",
    "    \n",
    "    \n",
    "def back():\n",
    "    topframe.config(text=\"Text Goes Here\")\n",
    "    \n",
    "\n",
    "\n",
    "root=tk.Tk()\n",
    "\n",
    "\n",
    "\n",
    "topframe=tk.Frame(root)\n",
    "topframe=tk.Label(text='hi',height=30)\n",
    "topframe.pack(side=tk.TOP)\n",
    "\n",
    "leftframe=tk.Frame(root)\n",
    "leftframe=tk.Button(text=\"Dislike\",command=press1)\n",
    "leftframe.pack(side=tk.LEFT)\n",
    "\n",
    "midframe=tk.Frame(root)\n",
    "midframe=tk.Button(text=\"Neutral\",command=press2)\n",
    "midframe.pack(side=tk.RIGHT)\n",
    "\n",
    "rightframe=tk.Frame(root)\n",
    "rightframe=tk.Button(text=\"Love\",command=press3)\n",
    "rightframe.pack(side=tk.BOTTOM)\n",
    "\n",
    "rightframe=tk.Frame(root)\n",
    "rightframe=tk.Button(text=\"Text Goes Here\",command=back)\n",
    "rightframe.pack(side=tk.BOTTOM)\n",
    "\n",
    "\n",
    "\n",
    "root.mainloop()"
   ]
  },
  {
   "cell_type": "code",
   "execution_count": 64,
   "metadata": {},
   "outputs": [],
   "source": [
    "def create_input_list(new_info):\n",
    "    df=pd.read_csv('../Data/combo_df')\n",
    "    cols=df.columns.tolist()\n",
    "    cols.remove('Complementary')\n",
    "    new_inputs=[]\n",
    "    for i in new_info:\n",
    "        line=df.iloc[i[0]]\n",
    "        vals=[line[j] for j in cols]\n",
    "        vals.append(i[1])\n",
    "        new_inputs.append(vals)\n",
    "    input_df=pd.DataFrame(data=new_inputs,columns=df.columns)\n",
    "    return input_df"
   ]
  },
  {
   "cell_type": "code",
   "execution_count": 65,
   "metadata": {},
   "outputs": [
    {
     "data": {
      "text/html": [
       "<div>\n",
       "<style scoped>\n",
       "    .dataframe tbody tr th:only-of-type {\n",
       "        vertical-align: middle;\n",
       "    }\n",
       "\n",
       "    .dataframe tbody tr th {\n",
       "        vertical-align: top;\n",
       "    }\n",
       "\n",
       "    .dataframe thead th {\n",
       "        text-align: right;\n",
       "    }\n",
       "</style>\n",
       "<table border=\"1\" class=\"dataframe\">\n",
       "  <thead>\n",
       "    <tr style=\"text-align: right;\">\n",
       "      <th></th>\n",
       "      <th>combo_index</th>\n",
       "      <th>ID</th>\n",
       "      <th>Article</th>\n",
       "      <th>Color</th>\n",
       "      <th>Characteristic</th>\n",
       "      <th>Cost</th>\n",
       "      <th>Occasion</th>\n",
       "      <th>ID.1</th>\n",
       "      <th>Article.1</th>\n",
       "      <th>Color.1</th>\n",
       "      <th>Characteristic.1</th>\n",
       "      <th>Cost.1</th>\n",
       "      <th>Occasion.1</th>\n",
       "      <th>Complementary</th>\n",
       "    </tr>\n",
       "  </thead>\n",
       "  <tbody>\n",
       "    <tr>\n",
       "      <th>0</th>\n",
       "      <td>2081</td>\n",
       "      <td>42</td>\n",
       "      <td>pants</td>\n",
       "      <td>striped</td>\n",
       "      <td>leather</td>\n",
       "      <td>113.73</td>\n",
       "      <td>Casual</td>\n",
       "      <td>31</td>\n",
       "      <td>jeans</td>\n",
       "      <td>grey</td>\n",
       "      <td>baggy</td>\n",
       "      <td>61.56</td>\n",
       "      <td>Work</td>\n",
       "      <td>1</td>\n",
       "    </tr>\n",
       "    <tr>\n",
       "      <th>1</th>\n",
       "      <td>140</td>\n",
       "      <td>3</td>\n",
       "      <td>dress</td>\n",
       "      <td>purple</td>\n",
       "      <td>long</td>\n",
       "      <td>96.70</td>\n",
       "      <td>Work</td>\n",
       "      <td>40</td>\n",
       "      <td>shoes</td>\n",
       "      <td>blue</td>\n",
       "      <td>flat</td>\n",
       "      <td>76.78</td>\n",
       "      <td>Work</td>\n",
       "      <td>3</td>\n",
       "    </tr>\n",
       "    <tr>\n",
       "      <th>2</th>\n",
       "      <td>2286</td>\n",
       "      <td>46</td>\n",
       "      <td>shirt</td>\n",
       "      <td>white</td>\n",
       "      <td>short</td>\n",
       "      <td>90.61</td>\n",
       "      <td>Special Occasion</td>\n",
       "      <td>36</td>\n",
       "      <td>pants</td>\n",
       "      <td>red</td>\n",
       "      <td>leather</td>\n",
       "      <td>72.77</td>\n",
       "      <td>Special Occasion</td>\n",
       "      <td>2</td>\n",
       "    </tr>\n",
       "    <tr>\n",
       "      <th>3</th>\n",
       "      <td>796</td>\n",
       "      <td>16</td>\n",
       "      <td>shirt</td>\n",
       "      <td>purple</td>\n",
       "      <td>buttoned</td>\n",
       "      <td>61.99</td>\n",
       "      <td>Work</td>\n",
       "      <td>46</td>\n",
       "      <td>shirt</td>\n",
       "      <td>white</td>\n",
       "      <td>short</td>\n",
       "      <td>90.61</td>\n",
       "      <td>Special Occasion</td>\n",
       "      <td>1</td>\n",
       "    </tr>\n",
       "    <tr>\n",
       "      <th>4</th>\n",
       "      <td>1867</td>\n",
       "      <td>38</td>\n",
       "      <td>jacket</td>\n",
       "      <td>red</td>\n",
       "      <td>many buttons</td>\n",
       "      <td>109.57</td>\n",
       "      <td>Special Occasion</td>\n",
       "      <td>17</td>\n",
       "      <td>pants</td>\n",
       "      <td>white</td>\n",
       "      <td>tight</td>\n",
       "      <td>109.44</td>\n",
       "      <td>Physical Activity</td>\n",
       "      <td>2</td>\n",
       "    </tr>\n",
       "    <tr>\n",
       "      <th>5</th>\n",
       "      <td>1551</td>\n",
       "      <td>32</td>\n",
       "      <td>jeans</td>\n",
       "      <td>white</td>\n",
       "      <td>flared</td>\n",
       "      <td>105.97</td>\n",
       "      <td>Casual</td>\n",
       "      <td>1</td>\n",
       "      <td>pants</td>\n",
       "      <td>red</td>\n",
       "      <td>loose</td>\n",
       "      <td>112.80</td>\n",
       "      <td>Casual</td>\n",
       "      <td>2</td>\n",
       "    </tr>\n",
       "    <tr>\n",
       "      <th>6</th>\n",
       "      <td>1732</td>\n",
       "      <td>35</td>\n",
       "      <td>jacket</td>\n",
       "      <td>white</td>\n",
       "      <td>many buttons</td>\n",
       "      <td>111.54</td>\n",
       "      <td>Physical Activity</td>\n",
       "      <td>32</td>\n",
       "      <td>jeans</td>\n",
       "      <td>white</td>\n",
       "      <td>flared</td>\n",
       "      <td>105.97</td>\n",
       "      <td>Casual</td>\n",
       "      <td>2</td>\n",
       "    </tr>\n",
       "    <tr>\n",
       "      <th>7</th>\n",
       "      <td>1437</td>\n",
       "      <td>29</td>\n",
       "      <td>pants</td>\n",
       "      <td>white</td>\n",
       "      <td>short</td>\n",
       "      <td>64.01</td>\n",
       "      <td>Special Occasion</td>\n",
       "      <td>37</td>\n",
       "      <td>jacket</td>\n",
       "      <td>red</td>\n",
       "      <td>hood</td>\n",
       "      <td>74.05</td>\n",
       "      <td>Work</td>\n",
       "      <td>2</td>\n",
       "    </tr>\n",
       "    <tr>\n",
       "      <th>8</th>\n",
       "      <td>728</td>\n",
       "      <td>15</td>\n",
       "      <td>pants</td>\n",
       "      <td>striped</td>\n",
       "      <td>long</td>\n",
       "      <td>91.63</td>\n",
       "      <td>Physical Activity</td>\n",
       "      <td>28</td>\n",
       "      <td>jacket</td>\n",
       "      <td>purple</td>\n",
       "      <td>hood</td>\n",
       "      <td>97.56</td>\n",
       "      <td>Casual</td>\n",
       "      <td>1</td>\n",
       "    </tr>\n",
       "  </tbody>\n",
       "</table>\n",
       "</div>"
      ],
      "text/plain": [
       "   combo_index  ID Article    Color Characteristic    Cost           Occasion  \\\n",
       "0         2081  42   pants  striped        leather  113.73             Casual   \n",
       "1          140   3   dress   purple           long   96.70               Work   \n",
       "2         2286  46   shirt    white          short   90.61   Special Occasion   \n",
       "3          796  16   shirt   purple       buttoned   61.99               Work   \n",
       "4         1867  38  jacket      red   many buttons  109.57   Special Occasion   \n",
       "5         1551  32   jeans    white         flared  105.97             Casual   \n",
       "6         1732  35  jacket    white   many buttons  111.54  Physical Activity   \n",
       "7         1437  29   pants    white          short   64.01   Special Occasion   \n",
       "8          728  15   pants  striped           long   91.63  Physical Activity   \n",
       "\n",
       "   ID.1 Article.1 Color.1 Characteristic.1  Cost.1         Occasion.1  \\\n",
       "0    31     jeans    grey            baggy   61.56               Work   \n",
       "1    40     shoes    blue             flat   76.78               Work   \n",
       "2    36     pants     red          leather   72.77   Special Occasion   \n",
       "3    46     shirt   white            short   90.61   Special Occasion   \n",
       "4    17     pants   white            tight  109.44  Physical Activity   \n",
       "5     1     pants     red            loose  112.80             Casual   \n",
       "6    32     jeans   white           flared  105.97             Casual   \n",
       "7    37    jacket     red             hood   74.05               Work   \n",
       "8    28    jacket  purple             hood   97.56             Casual   \n",
       "\n",
       "   Complementary  \n",
       "0              1  \n",
       "1              3  \n",
       "2              2  \n",
       "3              1  \n",
       "4              2  \n",
       "5              2  \n",
       "6              2  \n",
       "7              2  \n",
       "8              1  "
      ]
     },
     "execution_count": 65,
     "metadata": {},
     "output_type": "execute_result"
    }
   ],
   "source": [
    "create_input_list(new_info)"
   ]
  },
  {
   "cell_type": "code",
   "execution_count": 53,
   "metadata": {},
   "outputs": [
    {
     "data": {
      "text/plain": [
       "140"
      ]
     },
     "execution_count": 53,
     "metadata": {},
     "output_type": "execute_result"
    }
   ],
   "source": [
    "line=df.iloc[n]\n",
    "line['combo_index']"
   ]
  },
  {
   "cell_type": "code",
   "execution_count": 50,
   "metadata": {},
   "outputs": [],
   "source": [
    "n=new_info[][0]"
   ]
  },
  {
   "cell_type": "code",
   "execution_count": null,
   "metadata": {},
   "outputs": [],
   "source": []
  }
 ],
 "metadata": {
  "kernelspec": {
   "display_name": "Python 3",
   "language": "python",
   "name": "python3"
  },
  "language_info": {
   "codemirror_mode": {
    "name": "ipython",
    "version": 3
   },
   "file_extension": ".py",
   "mimetype": "text/x-python",
   "name": "python",
   "nbconvert_exporter": "python",
   "pygments_lexer": "ipython3",
   "version": "3.7.3"
  }
 },
 "nbformat": 4,
 "nbformat_minor": 2
}
