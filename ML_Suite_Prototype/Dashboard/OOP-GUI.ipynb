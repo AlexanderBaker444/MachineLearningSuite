{
 "cells": [
  {
   "cell_type": "code",
   "execution_count": 62,
   "metadata": {},
   "outputs": [
    {
     "name": "stdout",
     "output_type": "stream",
     "text": [
      "[[1029, 1]]\n"
     ]
    },
    {
     "ename": "TclError",
     "evalue": "invalid command name \".!label\"",
     "output_type": "error",
     "traceback": [
      "\u001b[1;31m---------------------------------------------------------------------------\u001b[0m",
      "\u001b[1;31mTclError\u001b[0m                                  Traceback (most recent call last)",
      "\u001b[1;32m<ipython-input-62-b8a66a29f72f>\u001b[0m in \u001b[0;36m<module>\u001b[1;34m\u001b[0m\n\u001b[0;32m     40\u001b[0m \u001b[0mroot\u001b[0m\u001b[1;33m=\u001b[0m\u001b[0mtk\u001b[0m\u001b[1;33m.\u001b[0m\u001b[0mTk\u001b[0m\u001b[1;33m(\u001b[0m\u001b[1;33m)\u001b[0m\u001b[1;33m\u001b[0m\u001b[1;33m\u001b[0m\u001b[0m\n\u001b[0;32m     41\u001b[0m \u001b[1;33m\u001b[0m\u001b[0m\n\u001b[1;32m---> 42\u001b[1;33m \u001b[0mp\u001b[0m\u001b[1;33m=\u001b[0m\u001b[0mpress1\u001b[0m\u001b[1;33m(\u001b[0m\u001b[1;36m1\u001b[0m\u001b[1;33m)\u001b[0m\u001b[1;33m\u001b[0m\u001b[1;33m\u001b[0m\u001b[0m\n\u001b[0m\u001b[0;32m     43\u001b[0m \u001b[1;33m\u001b[0m\u001b[0m\n\u001b[0;32m     44\u001b[0m \u001b[0mtopframe\u001b[0m\u001b[1;33m=\u001b[0m\u001b[0mtk\u001b[0m\u001b[1;33m.\u001b[0m\u001b[0mFrame\u001b[0m\u001b[1;33m(\u001b[0m\u001b[0mroot\u001b[0m\u001b[1;33m)\u001b[0m\u001b[1;33m\u001b[0m\u001b[1;33m\u001b[0m\u001b[0m\n",
      "\u001b[1;32m<ipython-input-62-b8a66a29f72f>\u001b[0m in \u001b[0;36mpress1\u001b[1;34m(t)\u001b[0m\n\u001b[0;32m     11\u001b[0m     \u001b[0mprint\u001b[0m\u001b[1;33m(\u001b[0m\u001b[0mnew_info\u001b[0m\u001b[1;33m)\u001b[0m\u001b[1;33m\u001b[0m\u001b[1;33m\u001b[0m\u001b[0m\n\u001b[0;32m     12\u001b[0m     \u001b[0mstring\u001b[0m\u001b[1;33m=\u001b[0m\u001b[1;34m'hi'\u001b[0m\u001b[1;33m\u001b[0m\u001b[1;33m\u001b[0m\u001b[0m\n\u001b[1;32m---> 13\u001b[1;33m     \u001b[0mtopframe\u001b[0m\u001b[1;33m.\u001b[0m\u001b[0mconfig\u001b[0m\u001b[1;33m(\u001b[0m\u001b[0mtext\u001b[0m\u001b[1;33m=\u001b[0m\u001b[0mextract_info\u001b[0m\u001b[1;33m(\u001b[0m\u001b[0mr\u001b[0m\u001b[1;33m)\u001b[0m\u001b[1;33m)\u001b[0m\u001b[1;33m\u001b[0m\u001b[1;33m\u001b[0m\u001b[0m\n\u001b[0m\u001b[0;32m     14\u001b[0m     \u001b[0mcombo_list\u001b[0m\u001b[1;33m.\u001b[0m\u001b[0mremove\u001b[0m\u001b[1;33m(\u001b[0m\u001b[0mr\u001b[0m\u001b[1;33m)\u001b[0m\u001b[1;33m\u001b[0m\u001b[1;33m\u001b[0m\u001b[0m\n\u001b[0;32m     15\u001b[0m \u001b[1;33m\u001b[0m\u001b[0m\n",
      "\u001b[1;32m~\\AppData\\Local\\Continuum\\anaconda3\\lib\\tkinter\\__init__.py\u001b[0m in \u001b[0;36mconfigure\u001b[1;34m(self, cnf, **kw)\u001b[0m\n\u001b[0;32m   1483\u001b[0m         \u001b[0mthe\u001b[0m \u001b[0mallowed\u001b[0m \u001b[0mkeyword\u001b[0m \u001b[0marguments\u001b[0m \u001b[0mcall\u001b[0m \u001b[0mthe\u001b[0m \u001b[0mmethod\u001b[0m \u001b[0mkeys\u001b[0m\u001b[1;33m.\u001b[0m\u001b[1;33m\u001b[0m\u001b[1;33m\u001b[0m\u001b[0m\n\u001b[0;32m   1484\u001b[0m         \"\"\"\n\u001b[1;32m-> 1485\u001b[1;33m         \u001b[1;32mreturn\u001b[0m \u001b[0mself\u001b[0m\u001b[1;33m.\u001b[0m\u001b[0m_configure\u001b[0m\u001b[1;33m(\u001b[0m\u001b[1;34m'configure'\u001b[0m\u001b[1;33m,\u001b[0m \u001b[0mcnf\u001b[0m\u001b[1;33m,\u001b[0m \u001b[0mkw\u001b[0m\u001b[1;33m)\u001b[0m\u001b[1;33m\u001b[0m\u001b[1;33m\u001b[0m\u001b[0m\n\u001b[0m\u001b[0;32m   1486\u001b[0m     \u001b[0mconfig\u001b[0m \u001b[1;33m=\u001b[0m \u001b[0mconfigure\u001b[0m\u001b[1;33m\u001b[0m\u001b[1;33m\u001b[0m\u001b[0m\n\u001b[0;32m   1487\u001b[0m     \u001b[1;32mdef\u001b[0m \u001b[0mcget\u001b[0m\u001b[1;33m(\u001b[0m\u001b[0mself\u001b[0m\u001b[1;33m,\u001b[0m \u001b[0mkey\u001b[0m\u001b[1;33m)\u001b[0m\u001b[1;33m:\u001b[0m\u001b[1;33m\u001b[0m\u001b[1;33m\u001b[0m\u001b[0m\n",
      "\u001b[1;32m~\\AppData\\Local\\Continuum\\anaconda3\\lib\\tkinter\\__init__.py\u001b[0m in \u001b[0;36m_configure\u001b[1;34m(self, cmd, cnf, kw)\u001b[0m\n\u001b[0;32m   1474\u001b[0m         \u001b[1;32mif\u001b[0m \u001b[0misinstance\u001b[0m\u001b[1;33m(\u001b[0m\u001b[0mcnf\u001b[0m\u001b[1;33m,\u001b[0m \u001b[0mstr\u001b[0m\u001b[1;33m)\u001b[0m\u001b[1;33m:\u001b[0m\u001b[1;33m\u001b[0m\u001b[1;33m\u001b[0m\u001b[0m\n\u001b[0;32m   1475\u001b[0m             \u001b[1;32mreturn\u001b[0m \u001b[0mself\u001b[0m\u001b[1;33m.\u001b[0m\u001b[0m_getconfigure1\u001b[0m\u001b[1;33m(\u001b[0m\u001b[0m_flatten\u001b[0m\u001b[1;33m(\u001b[0m\u001b[1;33m(\u001b[0m\u001b[0mself\u001b[0m\u001b[1;33m.\u001b[0m\u001b[0m_w\u001b[0m\u001b[1;33m,\u001b[0m \u001b[0mcmd\u001b[0m\u001b[1;33m,\u001b[0m \u001b[1;34m'-'\u001b[0m\u001b[1;33m+\u001b[0m\u001b[0mcnf\u001b[0m\u001b[1;33m)\u001b[0m\u001b[1;33m)\u001b[0m\u001b[1;33m)\u001b[0m\u001b[1;33m\u001b[0m\u001b[1;33m\u001b[0m\u001b[0m\n\u001b[1;32m-> 1476\u001b[1;33m         \u001b[0mself\u001b[0m\u001b[1;33m.\u001b[0m\u001b[0mtk\u001b[0m\u001b[1;33m.\u001b[0m\u001b[0mcall\u001b[0m\u001b[1;33m(\u001b[0m\u001b[0m_flatten\u001b[0m\u001b[1;33m(\u001b[0m\u001b[1;33m(\u001b[0m\u001b[0mself\u001b[0m\u001b[1;33m.\u001b[0m\u001b[0m_w\u001b[0m\u001b[1;33m,\u001b[0m \u001b[0mcmd\u001b[0m\u001b[1;33m)\u001b[0m\u001b[1;33m)\u001b[0m \u001b[1;33m+\u001b[0m \u001b[0mself\u001b[0m\u001b[1;33m.\u001b[0m\u001b[0m_options\u001b[0m\u001b[1;33m(\u001b[0m\u001b[0mcnf\u001b[0m\u001b[1;33m)\u001b[0m\u001b[1;33m)\u001b[0m\u001b[1;33m\u001b[0m\u001b[1;33m\u001b[0m\u001b[0m\n\u001b[0m\u001b[0;32m   1477\u001b[0m     \u001b[1;31m# These used to be defined in Widget:\u001b[0m\u001b[1;33m\u001b[0m\u001b[1;33m\u001b[0m\u001b[1;33m\u001b[0m\u001b[0m\n\u001b[0;32m   1478\u001b[0m     \u001b[1;32mdef\u001b[0m \u001b[0mconfigure\u001b[0m\u001b[1;33m(\u001b[0m\u001b[0mself\u001b[0m\u001b[1;33m,\u001b[0m \u001b[0mcnf\u001b[0m\u001b[1;33m=\u001b[0m\u001b[1;32mNone\u001b[0m\u001b[1;33m,\u001b[0m \u001b[1;33m**\u001b[0m\u001b[0mkw\u001b[0m\u001b[1;33m)\u001b[0m\u001b[1;33m:\u001b[0m\u001b[1;33m\u001b[0m\u001b[1;33m\u001b[0m\u001b[0m\n",
      "\u001b[1;31mTclError\u001b[0m: invalid command name \".!label\""
     ]
    }
   ],
   "source": [
    "import tkinter as tk\n",
    "df=pd.read_csv('../Data/combo_df')\n",
    "\n",
    "global new_info\n",
    "new_info=[]\n",
    "global combo_list\n",
    "combo_list=df['combo_index'].tolist()\n",
    "def press1(t):\n",
    "    r=np.random.randint(1,len(combo_list))\n",
    "    new_info.append([r,1])\n",
    "    print(new_info)\n",
    "    string='hi'\n",
    "    topframe.config(text=extract_info(r))\n",
    "    combo_list.remove(r)\n",
    "    \n",
    "    \n",
    "def press2():\n",
    "    r=np.random.randint(1,len(combo_list))\n",
    "    new_info.append([r,2])\n",
    "    print(new_info)\n",
    "    string='hi'\n",
    "    topframe.config(text=extract_info(r))\n",
    "    combo_list.remove(r)\n",
    "    \n",
    "def press3():\n",
    "    r=np.random.randint(1,len(combo_list))\n",
    "    new_info.append([r,3])\n",
    "    print(new_info)\n",
    "    string='hi'\n",
    "    \n",
    "    topframe.config(text=extract_info(r))\n",
    "    combo_list.remove(r)\n",
    "    \n",
    "    \n",
    "def back():\n",
    "    topframe.config(text=\"Text Goes Here\")\n",
    "    \n",
    "\n",
    "\n",
    "root=tk.Tk()\n",
    "\n",
    "\n",
    "\n",
    "topframe=tk.Frame(root)\n",
    "topframe=tk.Label(text='hi',height=30)\n",
    "topframe.pack(side=tk.TOP)\n",
    "\n",
    "leftframe=tk.Frame(root)\n",
    "leftframe=tk.Button(text=\"Dislike\",command=press1)\n",
    "leftframe.pack(side=tk.LEFT)\n",
    "\n",
    "midframe=tk.Frame(root)\n",
    "midframe=tk.Button(text=\"Neutral\",command=press2)\n",
    "midframe.pack(side=tk.RIGHT)\n",
    "\n",
    "rightframe=tk.Frame(root)\n",
    "rightframe=tk.Button(text=\"Love\",command=press3)\n",
    "rightframe.pack(side=tk.BOTTOM)\n",
    "\n",
    "rightframe=tk.Frame(root)\n",
    "rightframe=tk.Button(text=\"Text Goes Here\",command=back)\n",
    "rightframe.pack(side=tk.BOTTOM)\n",
    "\n",
    "\n",
    "\n",
    "root.mainloop()"
   ]
  },
  {
   "cell_type": "code",
   "execution_count": 45,
   "metadata": {},
   "outputs": [],
   "source": [
    "def extract_info(com):\n",
    "    line=df.iloc[com]\n",
    "    article1=line['ID']\n",
    "    article2=line['ID.1']\n",
    "    return article1,article2"
   ]
  },
  {
   "cell_type": "code",
   "execution_count": 56,
   "metadata": {},
   "outputs": [],
   "source": [
    "import tkinter as tk\n",
    "import pandas as pd\n",
    "import numpy as np\n",
    "\n",
    "class MainGUI(tk.Frame):\n",
    "    global new_info\n",
    "    new_info=[]\n",
    "    \n",
    "    \n",
    "    \n",
    "    def __init__(self,path,combos):\n",
    "        tk.Frame.__init__(self)\n",
    "        self.path=path\n",
    "        self.combos=combos\n",
    "    \n",
    "    \n",
    "    def read_data(self):\n",
    "        df=pd.read_csv(self.path)\n",
    "        combo_list=df[self.combos].tolist()\n",
    "        return df,combo_list\n",
    "    \n",
    "    def press1(self):\n",
    "        r=np.random.randint(1,len(combo_list))\n",
    "        new_info.append([r,1])\n",
    "        print(new_info)\n",
    "        topframe.config(text=extract_info(r))\n",
    "        combo_list.remove(r)\n",
    "    \n",
    "    \n",
    "    def press2(self):\n",
    "        r=np.random.randint(1,len(combo_list))\n",
    "        new_info.append([r,2])\n",
    "        print(new_info)\n",
    "        \n",
    "        topframe.config(text=extract_info(r))\n",
    "        combo_list.remove(r)\n",
    "\n",
    "    def press3(self):\n",
    "        r=np.random.randint(1,len(combo_list))\n",
    "        new_info.append([r,3])\n",
    "        print(new_info)\n",
    "\n",
    "        topframe.config(text=extract_info(r))\n",
    "        combo_list.remove(r)\n",
    "\n",
    "\n",
    "    def back(self):\n",
    "        topframe.config(text=\"Text Goes Here\")\n",
    "    \n",
    "\n",
    "    "
   ]
  },
  {
   "cell_type": "code",
   "execution_count": 57,
   "metadata": {},
   "outputs": [],
   "source": [
    "mg=MainGUI('../Data/combo_df','combo_index')\n",
    "\n",
    "df=mg.read_data()[0]\n",
    "combo_list=mg.read_data()[1]\n"
   ]
  },
  {
   "cell_type": "code",
   "execution_count": null,
   "metadata": {},
   "outputs": [],
   "source": [
    "press1=mg.press1()\n",
    "press2=mg.press2()\n",
    "press3=mg.press3()\n",
    "back=mg.back()"
   ]
  },
  {
   "cell_type": "code",
   "execution_count": 53,
   "metadata": {},
   "outputs": [],
   "source": [
    "root=tk.Tk()\n",
    "\n",
    "\n",
    "\n",
    "\n",
    "topframe=tk.Frame(root)\n",
    "topframe=tk.Label(text='hi',height=30)\n",
    "topframe.pack(side=tk.TOP)\n",
    "\n",
    "leftframe=tk.Frame(root)\n",
    "leftframe=tk.Button(text=\"Dislike\",command=press1)\n",
    "leftframe.pack(side=tk.LEFT)\n",
    "\n",
    "midframe=tk.Frame(root)\n",
    "midframe=tk.Button(text=\"Neutral\",command=press2)\n",
    "midframe.pack(side=tk.RIGHT)\n",
    "\n",
    "rightframe=tk.Frame(root)\n",
    "rightframe=tk.Button(text=\"Love\",command=press3)\n",
    "rightframe.pack(side=tk.BOTTOM)\n",
    "\n",
    "rightframe=tk.Frame(root)\n",
    "rightframe=tk.Button(text=\"Text Goes Here\",command=back)\n",
    "rightframe.pack(side=tk.BOTTOM)\n",
    "\n",
    "\n",
    "\n",
    "root.mainloop()"
   ]
  },
  {
   "cell_type": "code",
   "execution_count": 9,
   "metadata": {},
   "outputs": [],
   "source": [
    "class FirstClass():\n",
    "    def __init__(self,first_name,last_name):\n",
    "        self.first_name=first_name\n",
    "        self.last_name=last_name\n",
    "    def hello_there(self):\n",
    "        st_p=self.first_name + ' '+self.last_name\n",
    "        print(st_p)"
   ]
  },
  {
   "cell_type": "code",
   "execution_count": 13,
   "metadata": {},
   "outputs": [
    {
     "name": "stdout",
     "output_type": "stream",
     "text": [
      "Alex Baker\n"
     ]
    }
   ],
   "source": [
    "fc=FirstClass(first_name=\"Alex\",last_name=\"Baker\")\n",
    "fc.hello_there()"
   ]
  },
  {
   "cell_type": "code",
   "execution_count": 5,
   "metadata": {},
   "outputs": [],
   "source": [
    "import tkinter as tk\n",
    "from tkinter import StringVar\n",
    "root=tk.Tk()\n",
    "v=tk.StringVar()\n",
    "v.set(\"hi\")"
   ]
  },
  {
   "cell_type": "code",
   "execution_count": null,
   "metadata": {},
   "outputs": [],
   "source": [
    "# create a button class the Gui function can inherit from\n",
    "# this will seperate the functions into different classes\n",
    "# Have a Machine Learning Class to cap it all off\n",
    "# Give this Machine Learning Class Many Different models\n",
    "# make an overall button model and try to feed in outputs to activate the functions\n",
    "# Put the processing and machine learning from the GUI on a different script\n",
    "# Opion 1 or 2 how take the full new info and parse the data on the new script, or process it all at once\n"
   ]
  },
  {
   "cell_type": "code",
   "execution_count": 10,
   "metadata": {},
   "outputs": [],
   "source": [
    "import tkinter as tk\n",
    "import pandas as pd\n",
    "import numpy as np\n",
    "    \n",
    "class FullGUI():\n",
    "    global new_info\n",
    "    new_info=[]\n",
    "    root=tk.Tk()\n",
    "    label_text='combo'\n",
    "    v=tk.StringVar()\n",
    "    def __init__(self,path,combos):\n",
    "        \n",
    "        self.path=path\n",
    "        self.combos=combos\n",
    "        \n",
    "        self.topframe=tk.Label(text=self.label_text,height=30,width=30)\n",
    "        self.topframe.pack(side=tk.TOP)\n",
    "        \n",
    "        \n",
    "        self.leftframe=tk.Frame(self.root)\n",
    "        self.leftframe=tk.Button(text=\"Dislike\",command=self.press1)\n",
    "        self.leftframe.pack(side=tk.LEFT)\n",
    "        \n",
    "        self.rightframe=tk.Frame(self.root)\n",
    "        self.rightframe=tk.Button(text=\"Love\",command=self.press3)\n",
    "        self.rightframe.pack(side=tk.RIGHT)\n",
    "        \n",
    "        \n",
    "        self.bottomframe=tk.Frame(self.root)\n",
    "        self.bottomframe=tk.Button(text=\"Neutral\",command=self.press2)\n",
    "        self.bottomframe.pack(side=tk.BOTTOM)\n",
    "        \n",
    "        \n",
    "        \n",
    "       \n",
    "        \n",
    "        root.mainloop()\n",
    "\n",
    "    def read_data(self):\n",
    "        df=pd.read_csv(self.path)\n",
    "        combo_list=df[self.combos].tolist()\n",
    "        return df,combo_list\n",
    "    \n",
    "    \n",
    "    def create_input_list(self,new_info):\n",
    "        df=self.read_data()[0]\n",
    "        cols=df.columns.tolist()\n",
    "        cols.remove('Complementary')\n",
    "        new_inputs=[]\n",
    "        for i in new_info:\n",
    "            line=df.iloc[i[0]]\n",
    "            vals=[line[j] for j in cols]\n",
    "            vals.append(i[1])\n",
    "            new_inputs.append(vals)\n",
    "        input_df=pd.DataFrame(data=new_inputs,columns=df.columns)\n",
    "        return input_df\n",
    "\n",
    "\n",
    "    def extract_info(self,com):\n",
    "        line=df.iloc[com]\n",
    "        article1=line['ID']\n",
    "        article2=line['ID.1']\n",
    "        string=str(article1) +' '+ str(article2)\n",
    "        return string\n",
    "    \n",
    "    def press1(self):\n",
    "        r=np.random.randint(1,len(combo_list))\n",
    "        new_info.append([r,1])\n",
    "        print(new_info)\n",
    "        pair=self.extract_info(r)\n",
    "        print(pair)\n",
    "        self.v.set(pair)\n",
    "        self.label_text=pair\n",
    "        self.topframe.config(text=pair)\n",
    "        combo_list.remove(r)\n",
    "    \n",
    "    \n",
    "    def press2(self):\n",
    "        r=np.random.randint(1,len(combo_list))\n",
    "        new_info.append([r,2])\n",
    "        print(new_info)\n",
    "        pair=self.extract_info(r)\n",
    "        print(pair)\n",
    "        self.v.set(pair)\n",
    "        self.label_text=pair\n",
    "        self.topframe.config(text=pair)\n",
    "        combo_list.remove(r)\n",
    "\n",
    "    def press3(self):\n",
    "        r=np.random.randint(1,len(combo_list))\n",
    "        new_info.append([r,3])\n",
    "        print(new_info)\n",
    "        pair=self.extract_info(r)\n",
    "        print(pair)\n",
    "        self.v.set(pair)\n",
    "        self.label_text=pair\n",
    "        self.topframe.config(text=pair)\n",
    "        combo_list.remove(r)\n",
    "\n",
    "\n",
    "    def back(self):\n",
    "        topframe.config(text=\"Text Goes Here\")"
   ]
  },
  {
   "cell_type": "code",
   "execution_count": 11,
   "metadata": {},
   "outputs": [
    {
     "name": "stdout",
     "output_type": "stream",
     "text": [
      "[[833, 1]]\n",
      "17 34\n",
      "[[833, 1], [1233, 2]]\n",
      "25 34\n",
      "[[833, 1], [1233, 2], [159, 3]]\n",
      "4 10\n"
     ]
    }
   ],
   "source": [
    "mg=FullGUI('../Data/combo_df','combo_index')\n",
    "\n",
    "df=mg.read_data()[0]\n",
    "combo_list=mg.read_data()[1]\n"
   ]
  },
  {
   "cell_type": "code",
   "execution_count": 12,
   "metadata": {},
   "outputs": [],
   "source": [
    "input_df=mg.create_input_list(new_info)"
   ]
  },
  {
   "cell_type": "code",
   "execution_count": 97,
   "metadata": {},
   "outputs": [
    {
     "name": "stdout",
     "output_type": "stream",
     "text": [
      "hi\n",
      "hi\n",
      "hi\n",
      "hi\n",
      "hi\n"
     ]
    },
    {
     "data": {
      "text/plain": [
       "<__main__.Simple at 0x1ce09b225f8>"
      ]
     },
     "execution_count": 97,
     "metadata": {},
     "output_type": "execute_result"
    }
   ],
   "source": [
    "Simple()"
   ]
  },
  {
   "cell_type": "code",
   "execution_count": 96,
   "metadata": {},
   "outputs": [],
   "source": [
    "\n",
    "class Simple():\n",
    "    \n",
    "    root=tk.Tk()\n",
    "    def __init__(self):\n",
    "            self.frame=tk.Frame(self.root)\n",
    "            self.frame=tk.Button(text=\"hello world\",command=self.hello)\n",
    "            self.frame.pack(side=tk.BOTTOM)\n",
    "            root.mainloop()\n",
    "    def hello(self):\n",
    "        print(\"hi\")"
   ]
  },
  {
   "cell_type": "code",
   "execution_count": null,
   "metadata": {},
   "outputs": [],
   "source": []
  }
 ],
 "metadata": {
  "kernelspec": {
   "display_name": "Python 3",
   "language": "python",
   "name": "python3"
  },
  "language_info": {
   "codemirror_mode": {
    "name": "ipython",
    "version": 3
   },
   "file_extension": ".py",
   "mimetype": "text/x-python",
   "name": "python",
   "nbconvert_exporter": "python",
   "pygments_lexer": "ipython3",
   "version": "3.7.3"
  }
 },
 "nbformat": 4,
 "nbformat_minor": 2
}
